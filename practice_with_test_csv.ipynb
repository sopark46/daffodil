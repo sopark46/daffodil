{
 "cells": [
  {
   "cell_type": "code",
   "execution_count": 1,
   "metadata": {},
   "outputs": [],
   "source": [
    "import pandas as pd\n",
    "import os"
   ]
  },
  {
   "cell_type": "code",
   "execution_count": 2,
   "metadata": {},
   "outputs": [],
   "source": [
    "figsize_x = 14\n",
    "figsize_y = 9"
   ]
  },
  {
   "cell_type": "code",
   "execution_count": 3,
   "metadata": {},
   "outputs": [],
   "source": [
    "file_list = os.listdir(\"..\\\\all\\\\\")\n",
    "file_list.sort()\n",
    "result_path = '..\\\\result\\\\'\n",
    "csv_path = '..\\\\all\\\\'\n",
    "filename = ''"
   ]
  },
  {
   "cell_type": "code",
   "execution_count": 4,
   "metadata": {},
   "outputs": [],
   "source": [
    "def read_file(system_id, ess_id):\n",
    "    global filename\n",
    "    filename = 'ess_' + system_id + '_' + ess_id + '.csv'\n",
    "    df = pd.read_csv(csv_path + filename, parse_dates=['C.target_date'], index_col = ['C.target_date'])\n",
    "    return df"
   ]
  },
  {
   "cell_type": "code",
   "execution_count": 5,
   "metadata": {},
   "outputs": [],
   "source": [
    "def accumulate_charge(df):\n",
    "    global filename, result_path \n",
    "    df['C.CHG_A'] = df.index\n",
    "    df['C.DIS_A'] = df.index\n",
    "    df['M.CHG_A'] = df.index\n",
    "    df['M.DIS_A'] = df.index\n",
    "    df['M.CHG_P_A'] = df.index\n",
    "    df['M.DIS_P_A'] = df.index\n",
    "    \n",
    "    for index, row in df.iterrows() :\n",
    "        if (index == 0):\n",
    "            if (row['C.batt1_status'] == 'CHG'):\n",
    "                df.loc[index,'C.CHG_A'] = df.loc[index,'C.batt_p']\n",
    "                df.loc[index,'C.DIS_A'] = 0\n",
    "            if (row['C.batt1_status'] == 'DCHG'):\n",
    "                df.loc[index,'C.DIS_A'] = df.loc[index,'C.batt_p']\n",
    "                df.loc[index,'C.CHG_A'] = 0\n",
    "            df.loc[index,'M.CHG_P_A'] = df.loc[index, 'M.batt1_chg_p']\n",
    "            df.loc[index,'M.DIS_P_A'] = df.loc[index, 'M.batt1_dis_p']\n",
    "            df.loc[index,'M.CHG_A'] = df.loc[index, 'M.batt1_chg']\n",
    "            df.loc[index,'M.DIS_A'] = df.loc[index, 'M.batt1_dis']\n",
    "        if (index > 0):\n",
    "            if (row['C.batt1_status'] == 'CHG'):\n",
    "                df.loc[index,'C.CHG_A'] = df.loc[index - 1,'C.CHG_A'] + df.loc[index,'C.batt_p']\n",
    "                df.loc[index,'C.DIS_A'] = df.loc[index - 1,'C.DIS_A']\n",
    "            if (row['C.batt1_status'] == 'DCHG'):\n",
    "                df.loc[index,'C.DIS_A'] = df.loc[index - 1,'C.DIS_A'] + df.loc[index,'C.batt_p']\n",
    "                df.loc[index,'C.CHG_A'] = df.loc[index - 1,'C.CHG_A']\n",
    "            if (row['C.batt1_status'] == 'WAIT'):\n",
    "                df.loc[index,'C.DIS_A'] = df.loc[index - 1,'C.DIS_A']\n",
    "                df.loc[index,'C.CHG_A'] = df.loc[index - 1,'C.CHG_A']\n",
    "            df.loc[index,'M.CHG_P_A'] = df.loc[index, 'M.batt1_chg_p'] + df.loc[index-1,'M.CHG_P_A']\n",
    "            df.loc[index,'M.DIS_P_A'] = df.loc[index, 'M.batt1_dis_p'] + df.loc[index-1,'M.DIS_P_A']\n",
    "            df.loc[index,'M.CHG_A'] = df.loc[index, 'M.batt1_chg'] + df.loc[index-1,'M.CHG_A']\n",
    "            df.loc[index,'M.DIS_A'] = df.loc[index, 'M.batt1_dis'] + df.loc[index-1,'M.DIS_A']  \n",
    "    \n",
    "    df.to_csv(result_path + 'accumulate_' + filename)"
   ]
  },
  {
   "cell_type": "code",
   "execution_count": 6,
   "metadata": {},
   "outputs": [],
   "source": [
    "def plot_soh_temp(df):\n",
    "    import matplotlib.pyplot as plt\n",
    "    \n",
    "    fig = plt.figure(figsize=(figsize_x,figsize_y))\n",
    "\n",
    "    ax1 = fig.add_subplot(111)\n",
    "\n",
    "    ax1.plot(df.index, df['M.batt1_tmp'], color='y', label='Temperature')\n",
    "    ax2 = ax1.twinx()\n",
    "    ax2.plot(df.index, df['C.batt1_soh'], color='g', label='SOH')\n",
    "\n",
    "    ax1.set_yticks([5, 10, 15, 20, 25, 30, 35, 40])\n",
    "    ax2.set_yticks([80, 82, 84, 86, 88, 90, 92, 94, 96, 98, 100])\n",
    "    ax1.set_ylim(bottom=10, top=40)\n",
    "    ax2.set_ylim(bottom=80, top=103)\n",
    "    ax1.set_xlim(left=0, right=70000)\n",
    "\n",
    "    ax1.legend(loc=1)\n",
    "    ax2.legend(loc=2)\n",
    "\n",
    "    ax1.set_title(filename + ' SOH & Battery Temperature')\n",
    "    #plt.show()\n",
    "    fig.savefig(result_path + filename + ' SOH & BAT Temperature.png')"
   ]
  },
  {
   "cell_type": "code",
   "execution_count": 7,
   "metadata": {},
   "outputs": [],
   "source": [
    "def plot_soh_charge(df):\n",
    "    import matplotlib.pyplot as plt\n",
    "\n",
    "    fig = plt.figure(figsize=(figsize_x,figsize_y))\n",
    "\n",
    "    ax1 = fig.add_subplot(111)\n",
    "\n",
    "    ax1.plot(df.index, df['M.CHG_A'], color='r', label='CHG Accumulated')\n",
    "    ax1.plot(df.index, df['M.DIS_A'], color='b', label='DISCHG Accumulated')\n",
    "    ax2 = ax1.twinx()\n",
    "    ax2.plot(df.index, df['C.batt1_soh'], color='g', label='SOH')\n",
    "\n",
    "    ax1.set_yticks([1000000,2000000,3000000,4000000])\n",
    "    ax2.set_yticks([80, 82, 84, 86, 88, 90, 92, 94, 96, 98, 100])\n",
    "    ax1.set_ylim(bottom=0, top=4000000)\n",
    "    ax2.set_ylim(bottom=80, top=103)\n",
    "    ax1.set_xlim(left=0, right=70000)\n",
    "\n",
    "    ax1.legend(loc=1)\n",
    "    ax2.legend(loc=2)\n",
    "\n",
    "    ax1.set_title(filename + ' SOH & Charge Accumulated')\n",
    "    #plt.show()\n",
    "    fig.savefig(result_path + filename + ' SOH & Charge.png')"
   ]
  },
  {
   "cell_type": "code",
   "execution_count": 8,
   "metadata": {},
   "outputs": [],
   "source": [
    "def plot_temp_charge(df):\n",
    "    import matplotlib.pyplot as plt\n",
    "\n",
    "    fig = plt.figure(figsize=(figsize_x,figsize_y))\n",
    "\n",
    "    ax1 = fig.add_subplot(111)\n",
    "\n",
    "\n",
    "    ax1.plot(df.index, df['M.batt1_tmp'], color='y', label='Temperature')\n",
    "    ax2 = ax1.twinx()\n",
    "    ax2.plot(df.index, df['M.CHG_A'], color='r', label='CHG Accumulated')\n",
    "    ax2.plot(df.index, df['M.DIS_A'], color='b', label='DISCHG Accumulated')\n",
    "\n",
    "    ax2.set_yticks([1000000,2000000,3000000,4000000])\n",
    "    ax1.set_yticks([5, 10, 15, 20, 25, 30, 35, 40])\n",
    "    ax2.set_ylim(bottom=0, top=4000000)\n",
    "    ax1.set_ylim(bottom=10, top=40)\n",
    "    ax1.set_xlim(left=0, right=70000)\n",
    "\n",
    "    ax1.legend(loc=2)\n",
    "    ax2.legend(loc=1)\n",
    "\n",
    "    ax1.set_title(filename + ' Temperature & Charge')\n",
    "    #plt.show()\n",
    "    fig.savefig(result_path + filename + ' Temperature & Charge.png')"
   ]
  },
  {
   "cell_type": "code",
   "execution_count": 9,
   "metadata": {},
   "outputs": [],
   "source": [
    "def plot_soc_charge(df):\n",
    "    import matplotlib.pyplot as plt\n",
    "\n",
    "    fig = plt.figure(figsize=(figsize_x,figsize_y))\n",
    "\n",
    "    ax1 = fig.add_subplot(111)\n",
    "\n",
    "\n",
    "    ax1.plot(df.index, df['M.batt1_soc'], color='y', label='SOC')\n",
    "    ax2 = ax1.twinx()\n",
    "    ax2.plot(df.index, df['M.CHG_A'], color='r', label='CHG Accumulated')\n",
    "    ax2.plot(df.index, df['M.DIS_A'], color='b', label='DISCHG Accumulated')\n",
    "\n",
    "    ax2.set_yticks([1000000,2000000,3000000,4000000])\n",
    "    ax1.set_yticks([0, 25, 50, 75, 100])\n",
    "    ax2.set_ylim(bottom=0, top=4000000)\n",
    "    ax1.set_ylim(bottom=-50, top=150)\n",
    "    ax1.set_xlim(left=0, right=70000)\n",
    "\n",
    "    ax1.legend(loc=2)\n",
    "    ax2.legend(loc=1)\n",
    "\n",
    "    ax1.set_title(filename + ' SOC & Charge')\n",
    "    #plt.show()\n",
    "    fig.savefig(result_path + filename + ' SOC & Charge.png')"
   ]
  },
  {
   "cell_type": "code",
   "execution_count": 10,
   "metadata": {},
   "outputs": [],
   "source": [
    "def plot_soc_soh(df):\n",
    "    import matplotlib.pyplot as plt\n",
    "\n",
    "    fig = plt.figure(figsize=(figsize_x,figsize_y))\n",
    "\n",
    "    ax1 = fig.add_subplot(111)\n",
    "\n",
    "    ax1.plot(df.index, df['M.batt1_soc'], color='y', label='SOC')\n",
    "    ax2 = ax1.twinx()\n",
    "    ax2.plot(df.index, df['C.batt1_soh'], color='g', label='SOH')\n",
    "\n",
    "    ax1.set_yticks([0, 25, 50, 75, 100])\n",
    "    ax2.set_yticks([80, 82, 84, 86, 88, 90, 92, 94, 96, 98, 100])\n",
    "    ax1.set_ylim(bottom=-50, top=150)\n",
    "    ax2.set_ylim(bottom=80, top=103)\n",
    "    ax1.set_xlim(left=0, right=70000)\n",
    "\n",
    "    ax1.legend(loc=1)\n",
    "    ax2.legend(loc=2)\n",
    "\n",
    "    ax1.set_title(filename + ' SOC & SOH')\n",
    "    #plt.show()\n",
    "    fig.savefig(result_path + filename + ' SOC & SOH.png')"
   ]
  },
  {
   "cell_type": "code",
   "execution_count": 11,
   "metadata": {
    "scrolled": false
   },
   "outputs": [
    {
     "name": "stderr",
     "output_type": "stream",
     "text": [
      "C:\\Users\\sopark\\AppData\\Local\\conda\\conda\\envs\\idp3\\lib\\site-packages\\matplotlib\\pyplot.py:522: RuntimeWarning: More than 20 figures have been opened. Figures created through the pyplot interface (`matplotlib.pyplot.figure`) are retained until explicitly closed and may consume too much memory. (To control this warning, see the rcParam `figure.max_open_warning`).\n",
      "  max_open_warning, RuntimeWarning)\n"
     ]
    },
    {
     "ename": "KeyboardInterrupt",
     "evalue": "",
     "output_type": "error",
     "traceback": [
      "\u001b[1;31m---------------------------------------------------------------------------\u001b[0m",
      "\u001b[1;31mKeyboardInterrupt\u001b[0m                         Traceback (most recent call last)",
      "\u001b[1;32m<ipython-input-11-2775a618c523>\u001b[0m in \u001b[0;36m<module>\u001b[1;34m()\u001b[0m\n\u001b[0;32m      3\u001b[0m     \u001b[0mess_id\u001b[0m \u001b[1;33m=\u001b[0m \u001b[0mfile_list\u001b[0m\u001b[1;33m[\u001b[0m\u001b[0mi\u001b[0m\u001b[1;33m]\u001b[0m\u001b[1;33m.\u001b[0m\u001b[0msplit\u001b[0m\u001b[1;33m(\u001b[0m\u001b[1;34m'_'\u001b[0m\u001b[1;33m)\u001b[0m\u001b[1;33m[\u001b[0m\u001b[1;36m2\u001b[0m\u001b[1;33m]\u001b[0m\u001b[1;33m.\u001b[0m\u001b[0msplit\u001b[0m\u001b[1;33m(\u001b[0m\u001b[1;34m'.'\u001b[0m\u001b[1;33m)\u001b[0m\u001b[1;33m[\u001b[0m\u001b[1;36m0\u001b[0m\u001b[1;33m]\u001b[0m\u001b[1;33m\u001b[0m\u001b[0m\n\u001b[0;32m      4\u001b[0m     \u001b[0mdf\u001b[0m \u001b[1;33m=\u001b[0m \u001b[0mread_file\u001b[0m\u001b[1;33m(\u001b[0m\u001b[0msystem_id\u001b[0m\u001b[1;33m,\u001b[0m \u001b[0mess_id\u001b[0m\u001b[1;33m)\u001b[0m\u001b[1;33m\u001b[0m\u001b[0m\n\u001b[1;32m----> 5\u001b[1;33m     \u001b[0maccumulate_charge\u001b[0m\u001b[1;33m(\u001b[0m\u001b[0mdf\u001b[0m\u001b[1;33m)\u001b[0m\u001b[1;33m\u001b[0m\u001b[0m\n\u001b[0m\u001b[0;32m      6\u001b[0m     \u001b[0mplot_soh_charge\u001b[0m\u001b[1;33m(\u001b[0m\u001b[0mdf\u001b[0m\u001b[1;33m)\u001b[0m\u001b[1;33m\u001b[0m\u001b[0m\n\u001b[0;32m      7\u001b[0m     \u001b[0mplot_soh_temp\u001b[0m\u001b[1;33m(\u001b[0m\u001b[0mdf\u001b[0m\u001b[1;33m)\u001b[0m\u001b[1;33m\u001b[0m\u001b[0m\n",
      "\u001b[1;32m<ipython-input-5-2f2f48a5684a>\u001b[0m in \u001b[0;36maccumulate_charge\u001b[1;34m(df)\u001b[0m\n\u001b[0;32m     29\u001b[0m             \u001b[1;32mif\u001b[0m \u001b[1;33m(\u001b[0m\u001b[0mrow\u001b[0m\u001b[1;33m[\u001b[0m\u001b[1;34m'C.batt1_status'\u001b[0m\u001b[1;33m]\u001b[0m \u001b[1;33m==\u001b[0m \u001b[1;34m'WAIT'\u001b[0m\u001b[1;33m)\u001b[0m\u001b[1;33m:\u001b[0m\u001b[1;33m\u001b[0m\u001b[0m\n\u001b[0;32m     30\u001b[0m                 \u001b[0mdf\u001b[0m\u001b[1;33m.\u001b[0m\u001b[0mloc\u001b[0m\u001b[1;33m[\u001b[0m\u001b[0mindex\u001b[0m\u001b[1;33m,\u001b[0m\u001b[1;34m'C.DIS_A'\u001b[0m\u001b[1;33m]\u001b[0m \u001b[1;33m=\u001b[0m \u001b[0mdf\u001b[0m\u001b[1;33m.\u001b[0m\u001b[0mloc\u001b[0m\u001b[1;33m[\u001b[0m\u001b[0mindex\u001b[0m \u001b[1;33m-\u001b[0m \u001b[1;36m1\u001b[0m\u001b[1;33m,\u001b[0m\u001b[1;34m'C.DIS_A'\u001b[0m\u001b[1;33m]\u001b[0m\u001b[1;33m\u001b[0m\u001b[0m\n\u001b[1;32m---> 31\u001b[1;33m                 \u001b[0mdf\u001b[0m\u001b[1;33m.\u001b[0m\u001b[0mloc\u001b[0m\u001b[1;33m[\u001b[0m\u001b[0mindex\u001b[0m\u001b[1;33m,\u001b[0m\u001b[1;34m'C.CHG_A'\u001b[0m\u001b[1;33m]\u001b[0m \u001b[1;33m=\u001b[0m \u001b[0mdf\u001b[0m\u001b[1;33m.\u001b[0m\u001b[0mloc\u001b[0m\u001b[1;33m[\u001b[0m\u001b[0mindex\u001b[0m \u001b[1;33m-\u001b[0m \u001b[1;36m1\u001b[0m\u001b[1;33m,\u001b[0m\u001b[1;34m'C.CHG_A'\u001b[0m\u001b[1;33m]\u001b[0m\u001b[1;33m\u001b[0m\u001b[0m\n\u001b[0m\u001b[0;32m     32\u001b[0m             \u001b[0mdf\u001b[0m\u001b[1;33m.\u001b[0m\u001b[0mloc\u001b[0m\u001b[1;33m[\u001b[0m\u001b[0mindex\u001b[0m\u001b[1;33m,\u001b[0m\u001b[1;34m'M.CHG_P_A'\u001b[0m\u001b[1;33m]\u001b[0m \u001b[1;33m=\u001b[0m \u001b[0mdf\u001b[0m\u001b[1;33m.\u001b[0m\u001b[0mloc\u001b[0m\u001b[1;33m[\u001b[0m\u001b[0mindex\u001b[0m\u001b[1;33m,\u001b[0m \u001b[1;34m'M.batt1_chg_p'\u001b[0m\u001b[1;33m]\u001b[0m \u001b[1;33m+\u001b[0m \u001b[0mdf\u001b[0m\u001b[1;33m.\u001b[0m\u001b[0mloc\u001b[0m\u001b[1;33m[\u001b[0m\u001b[0mindex\u001b[0m\u001b[1;33m-\u001b[0m\u001b[1;36m1\u001b[0m\u001b[1;33m,\u001b[0m\u001b[1;34m'M.CHG_P_A'\u001b[0m\u001b[1;33m]\u001b[0m\u001b[1;33m\u001b[0m\u001b[0m\n\u001b[0;32m     33\u001b[0m             \u001b[0mdf\u001b[0m\u001b[1;33m.\u001b[0m\u001b[0mloc\u001b[0m\u001b[1;33m[\u001b[0m\u001b[0mindex\u001b[0m\u001b[1;33m,\u001b[0m\u001b[1;34m'M.DIS_P_A'\u001b[0m\u001b[1;33m]\u001b[0m \u001b[1;33m=\u001b[0m \u001b[0mdf\u001b[0m\u001b[1;33m.\u001b[0m\u001b[0mloc\u001b[0m\u001b[1;33m[\u001b[0m\u001b[0mindex\u001b[0m\u001b[1;33m,\u001b[0m \u001b[1;34m'M.batt1_dis_p'\u001b[0m\u001b[1;33m]\u001b[0m \u001b[1;33m+\u001b[0m \u001b[0mdf\u001b[0m\u001b[1;33m.\u001b[0m\u001b[0mloc\u001b[0m\u001b[1;33m[\u001b[0m\u001b[0mindex\u001b[0m\u001b[1;33m-\u001b[0m\u001b[1;36m1\u001b[0m\u001b[1;33m,\u001b[0m\u001b[1;34m'M.DIS_P_A'\u001b[0m\u001b[1;33m]\u001b[0m\u001b[1;33m\u001b[0m\u001b[0m\n",
      "\u001b[1;32m~\\AppData\\Local\\conda\\conda\\envs\\idp3\\lib\\site-packages\\pandas\\core\\indexing.py\u001b[0m in \u001b[0;36m__setitem__\u001b[1;34m(self, key, value)\u001b[0m\n\u001b[0;32m    187\u001b[0m             \u001b[0mkey\u001b[0m \u001b[1;33m=\u001b[0m \u001b[0mcom\u001b[0m\u001b[1;33m.\u001b[0m\u001b[0m_apply_if_callable\u001b[0m\u001b[1;33m(\u001b[0m\u001b[0mkey\u001b[0m\u001b[1;33m,\u001b[0m \u001b[0mself\u001b[0m\u001b[1;33m.\u001b[0m\u001b[0mobj\u001b[0m\u001b[1;33m)\u001b[0m\u001b[1;33m\u001b[0m\u001b[0m\n\u001b[0;32m    188\u001b[0m         \u001b[0mindexer\u001b[0m \u001b[1;33m=\u001b[0m \u001b[0mself\u001b[0m\u001b[1;33m.\u001b[0m\u001b[0m_get_setitem_indexer\u001b[0m\u001b[1;33m(\u001b[0m\u001b[0mkey\u001b[0m\u001b[1;33m)\u001b[0m\u001b[1;33m\u001b[0m\u001b[0m\n\u001b[1;32m--> 189\u001b[1;33m         \u001b[0mself\u001b[0m\u001b[1;33m.\u001b[0m\u001b[0m_setitem_with_indexer\u001b[0m\u001b[1;33m(\u001b[0m\u001b[0mindexer\u001b[0m\u001b[1;33m,\u001b[0m \u001b[0mvalue\u001b[0m\u001b[1;33m)\u001b[0m\u001b[1;33m\u001b[0m\u001b[0m\n\u001b[0m\u001b[0;32m    190\u001b[0m \u001b[1;33m\u001b[0m\u001b[0m\n\u001b[0;32m    191\u001b[0m     \u001b[1;32mdef\u001b[0m \u001b[0m_validate_key\u001b[0m\u001b[1;33m(\u001b[0m\u001b[0mself\u001b[0m\u001b[1;33m,\u001b[0m \u001b[0mkey\u001b[0m\u001b[1;33m,\u001b[0m \u001b[0maxis\u001b[0m\u001b[1;33m)\u001b[0m\u001b[1;33m:\u001b[0m\u001b[1;33m\u001b[0m\u001b[0m\n",
      "\u001b[1;32m~\\AppData\\Local\\conda\\conda\\envs\\idp3\\lib\\site-packages\\pandas\\core\\indexing.py\u001b[0m in \u001b[0;36m_setitem_with_indexer\u001b[1;34m(self, indexer, value)\u001b[0m\n\u001b[0;32m    613\u001b[0m                 \u001b[1;31m# scalar\u001b[0m\u001b[1;33m\u001b[0m\u001b[1;33m\u001b[0m\u001b[0m\n\u001b[0;32m    614\u001b[0m                 \u001b[1;32mfor\u001b[0m \u001b[0mitem\u001b[0m \u001b[1;32min\u001b[0m \u001b[0mlabels\u001b[0m\u001b[1;33m:\u001b[0m\u001b[1;33m\u001b[0m\u001b[0m\n\u001b[1;32m--> 615\u001b[1;33m                     \u001b[0msetter\u001b[0m\u001b[1;33m(\u001b[0m\u001b[0mitem\u001b[0m\u001b[1;33m,\u001b[0m \u001b[0mvalue\u001b[0m\u001b[1;33m)\u001b[0m\u001b[1;33m\u001b[0m\u001b[0m\n\u001b[0m\u001b[0;32m    616\u001b[0m \u001b[1;33m\u001b[0m\u001b[0m\n\u001b[0;32m    617\u001b[0m         \u001b[1;32melse\u001b[0m\u001b[1;33m:\u001b[0m\u001b[1;33m\u001b[0m\u001b[0m\n",
      "\u001b[1;32m~\\AppData\\Local\\conda\\conda\\envs\\idp3\\lib\\site-packages\\pandas\\core\\indexing.py\u001b[0m in \u001b[0;36msetter\u001b[1;34m(item, v)\u001b[0m\n\u001b[0;32m    541\u001b[0m \u001b[1;33m\u001b[0m\u001b[0m\n\u001b[0;32m    542\u001b[0m                 \u001b[1;31m# reset the sliced object if unique\u001b[0m\u001b[1;33m\u001b[0m\u001b[1;33m\u001b[0m\u001b[0m\n\u001b[1;32m--> 543\u001b[1;33m                 \u001b[0mself\u001b[0m\u001b[1;33m.\u001b[0m\u001b[0mobj\u001b[0m\u001b[1;33m[\u001b[0m\u001b[0mitem\u001b[0m\u001b[1;33m]\u001b[0m \u001b[1;33m=\u001b[0m \u001b[0ms\u001b[0m\u001b[1;33m\u001b[0m\u001b[0m\n\u001b[0m\u001b[0;32m    544\u001b[0m \u001b[1;33m\u001b[0m\u001b[0m\n\u001b[0;32m    545\u001b[0m             \u001b[1;32mdef\u001b[0m \u001b[0mcan_do_equal_len\u001b[0m\u001b[1;33m(\u001b[0m\u001b[1;33m)\u001b[0m\u001b[1;33m:\u001b[0m\u001b[1;33m\u001b[0m\u001b[0m\n",
      "\u001b[1;32m~\\AppData\\Local\\conda\\conda\\envs\\idp3\\lib\\site-packages\\pandas\\core\\frame.py\u001b[0m in \u001b[0;36m__setitem__\u001b[1;34m(self, key, value)\u001b[0m\n\u001b[0;32m   3117\u001b[0m         \u001b[1;32melse\u001b[0m\u001b[1;33m:\u001b[0m\u001b[1;33m\u001b[0m\u001b[0m\n\u001b[0;32m   3118\u001b[0m             \u001b[1;31m# set column\u001b[0m\u001b[1;33m\u001b[0m\u001b[1;33m\u001b[0m\u001b[0m\n\u001b[1;32m-> 3119\u001b[1;33m             \u001b[0mself\u001b[0m\u001b[1;33m.\u001b[0m\u001b[0m_set_item\u001b[0m\u001b[1;33m(\u001b[0m\u001b[0mkey\u001b[0m\u001b[1;33m,\u001b[0m \u001b[0mvalue\u001b[0m\u001b[1;33m)\u001b[0m\u001b[1;33m\u001b[0m\u001b[0m\n\u001b[0m\u001b[0;32m   3120\u001b[0m \u001b[1;33m\u001b[0m\u001b[0m\n\u001b[0;32m   3121\u001b[0m     \u001b[1;32mdef\u001b[0m \u001b[0m_setitem_slice\u001b[0m\u001b[1;33m(\u001b[0m\u001b[0mself\u001b[0m\u001b[1;33m,\u001b[0m \u001b[0mkey\u001b[0m\u001b[1;33m,\u001b[0m \u001b[0mvalue\u001b[0m\u001b[1;33m)\u001b[0m\u001b[1;33m:\u001b[0m\u001b[1;33m\u001b[0m\u001b[0m\n",
      "\u001b[1;32m~\\AppData\\Local\\conda\\conda\\envs\\idp3\\lib\\site-packages\\pandas\\core\\frame.py\u001b[0m in \u001b[0;36m_set_item\u001b[1;34m(self, key, value)\u001b[0m\n\u001b[0;32m   3192\u001b[0m \u001b[1;33m\u001b[0m\u001b[0m\n\u001b[0;32m   3193\u001b[0m         \u001b[0mself\u001b[0m\u001b[1;33m.\u001b[0m\u001b[0m_ensure_valid_index\u001b[0m\u001b[1;33m(\u001b[0m\u001b[0mvalue\u001b[0m\u001b[1;33m)\u001b[0m\u001b[1;33m\u001b[0m\u001b[0m\n\u001b[1;32m-> 3194\u001b[1;33m         \u001b[0mvalue\u001b[0m \u001b[1;33m=\u001b[0m \u001b[0mself\u001b[0m\u001b[1;33m.\u001b[0m\u001b[0m_sanitize_column\u001b[0m\u001b[1;33m(\u001b[0m\u001b[0mkey\u001b[0m\u001b[1;33m,\u001b[0m \u001b[0mvalue\u001b[0m\u001b[1;33m)\u001b[0m\u001b[1;33m\u001b[0m\u001b[0m\n\u001b[0m\u001b[0;32m   3195\u001b[0m         \u001b[0mNDFrame\u001b[0m\u001b[1;33m.\u001b[0m\u001b[0m_set_item\u001b[0m\u001b[1;33m(\u001b[0m\u001b[0mself\u001b[0m\u001b[1;33m,\u001b[0m \u001b[0mkey\u001b[0m\u001b[1;33m,\u001b[0m \u001b[0mvalue\u001b[0m\u001b[1;33m)\u001b[0m\u001b[1;33m\u001b[0m\u001b[0m\n\u001b[0;32m   3196\u001b[0m \u001b[1;33m\u001b[0m\u001b[0m\n",
      "\u001b[1;32m~\\AppData\\Local\\conda\\conda\\envs\\idp3\\lib\\site-packages\\pandas\\core\\frame.py\u001b[0m in \u001b[0;36m_sanitize_column\u001b[1;34m(self, key, value, broadcast)\u001b[0m\n\u001b[0;32m   3364\u001b[0m \u001b[1;33m\u001b[0m\u001b[0m\n\u001b[0;32m   3365\u001b[0m         \u001b[1;32mif\u001b[0m \u001b[0misinstance\u001b[0m\u001b[1;33m(\u001b[0m\u001b[0mvalue\u001b[0m\u001b[1;33m,\u001b[0m \u001b[0mSeries\u001b[0m\u001b[1;33m)\u001b[0m\u001b[1;33m:\u001b[0m\u001b[1;33m\u001b[0m\u001b[0m\n\u001b[1;32m-> 3366\u001b[1;33m             \u001b[0mvalue\u001b[0m \u001b[1;33m=\u001b[0m \u001b[0mreindexer\u001b[0m\u001b[1;33m(\u001b[0m\u001b[0mvalue\u001b[0m\u001b[1;33m)\u001b[0m\u001b[1;33m\u001b[0m\u001b[0m\n\u001b[0m\u001b[0;32m   3367\u001b[0m \u001b[1;33m\u001b[0m\u001b[0m\n\u001b[0;32m   3368\u001b[0m         \u001b[1;32melif\u001b[0m \u001b[0misinstance\u001b[0m\u001b[1;33m(\u001b[0m\u001b[0mvalue\u001b[0m\u001b[1;33m,\u001b[0m \u001b[0mDataFrame\u001b[0m\u001b[1;33m)\u001b[0m\u001b[1;33m:\u001b[0m\u001b[1;33m\u001b[0m\u001b[0m\n",
      "\u001b[1;32m~\\AppData\\Local\\conda\\conda\\envs\\idp3\\lib\\site-packages\\pandas\\core\\frame.py\u001b[0m in \u001b[0;36mreindexer\u001b[1;34m(value)\u001b[0m\n\u001b[0;32m   3346\u001b[0m \u001b[1;33m\u001b[0m\u001b[0m\n\u001b[0;32m   3347\u001b[0m             \u001b[1;32mif\u001b[0m \u001b[0mvalue\u001b[0m\u001b[1;33m.\u001b[0m\u001b[0mindex\u001b[0m\u001b[1;33m.\u001b[0m\u001b[0mequals\u001b[0m\u001b[1;33m(\u001b[0m\u001b[0mself\u001b[0m\u001b[1;33m.\u001b[0m\u001b[0mindex\u001b[0m\u001b[1;33m)\u001b[0m \u001b[1;32mor\u001b[0m \u001b[1;32mnot\u001b[0m \u001b[0mlen\u001b[0m\u001b[1;33m(\u001b[0m\u001b[0mself\u001b[0m\u001b[1;33m.\u001b[0m\u001b[0mindex\u001b[0m\u001b[1;33m)\u001b[0m\u001b[1;33m:\u001b[0m\u001b[1;33m\u001b[0m\u001b[0m\n\u001b[1;32m-> 3348\u001b[1;33m                 \u001b[0mvalue\u001b[0m \u001b[1;33m=\u001b[0m \u001b[0mvalue\u001b[0m\u001b[1;33m.\u001b[0m\u001b[0m_values\u001b[0m\u001b[1;33m.\u001b[0m\u001b[0mcopy\u001b[0m\u001b[1;33m(\u001b[0m\u001b[1;33m)\u001b[0m\u001b[1;33m\u001b[0m\u001b[0m\n\u001b[0m\u001b[0;32m   3349\u001b[0m             \u001b[1;32melse\u001b[0m\u001b[1;33m:\u001b[0m\u001b[1;33m\u001b[0m\u001b[0m\n\u001b[0;32m   3350\u001b[0m \u001b[1;33m\u001b[0m\u001b[0m\n",
      "\u001b[1;31mKeyboardInterrupt\u001b[0m: "
     ]
    }
   ],
   "source": [
    "for i in range(len(file_list)):\n",
    "    system_id = file_list[i].split('_')[1]\n",
    "    ess_id = file_list[i].split('_')[2].split('.')[0]\n",
    "    df = read_file(system_id, ess_id)\n",
    "    accumulate_charge(df)\n",
    "    plot_soh_charge(df)\n",
    "    plot_soh_temp(df)\n",
    "    plot_temp_charge(df)\n",
    "    plot_soc_charge(df)\n",
    "    plot_soc_soh(df)"
   ]
  },
  {
   "cell_type": "code",
   "execution_count": null,
   "metadata": {
    "scrolled": true
   },
   "outputs": [],
   "source": [
    "#df.head()"
   ]
  },
  {
   "cell_type": "code",
   "execution_count": null,
   "metadata": {},
   "outputs": [],
   "source": [
    "# import matplotlib.pyplot as plt\n",
    "\n",
    "# fig = plt.figure(figsize=(figsize_x,figsize_y))\n",
    "\n",
    "# ax1 = fig.add_subplot(111)\n",
    "\n",
    "# ax1.plot(df.index, df['M.CHG_A'], color='r', label='CHG Accumulated')\n",
    "# ax1.plot(df.index, df['M.DIS_A'], color='b', label='DISCHG Accumulated')\n",
    "# ax2 = ax1.twinx()\n",
    "# ax2.plot(df.index, df['C.batt1_soh'], color='g', label='SOH')\n",
    "\n",
    "# ax1.set_yticks([1000000,2000000,3000000,4000000])\n",
    "# ax2.set_yticks([80, 82, 84, 86, 88, 90, 92, 94, 96, 98, 100])\n",
    "# ax1.set_ylim(bottom=0, top=4000000)\n",
    "# ax2.set_ylim(bottom=80, top=103)\n",
    "# ax1.set_xlim(left=0, right=70000)\n",
    "\n",
    "# ax1.legend(loc=1)\n",
    "# ax2.legend(loc=2)\n",
    "\n",
    "# ax1.set_title(filename + ' SOH & Charge Accumulated')\n",
    "# plt.show()\n",
    "# fig.savefig(result_path + filename + ' SOH & Charge.png')\n",
    "# #df[['M.CHG_A','C.batt1_soh']].plot(secondary_y='C.batt1_soh')\n",
    "\n",
    "# #plt.show()"
   ]
  },
  {
   "cell_type": "code",
   "execution_count": null,
   "metadata": {},
   "outputs": [],
   "source": [
    "\n",
    "# import matplotlib.pyplot as plt\n",
    "\n",
    "# fig = plt.figure(figsize=(figsize_x,figsize_y))\n",
    "\n",
    "# ax1 = fig.add_subplot(111)\n",
    "\n",
    "# ax1.scatter(df['M.CHG_A'], df['C.batt1_soh'], color='r', label='CHG Accumulated')\n",
    "\n",
    "# #ax1.set_yticks([1000000,2000000,3000000,4000000])\n",
    "# #ax2.set_yticks([80, 82, 84, 86, 88, 90, 92, 94, 96, 98, 100])\n",
    "# ax1.set_ylim(bottom=80, top=100)\n",
    "# #ax2.set_ylim(bottom=80, top=103)\n",
    "# ax1.set_xlim(left=0, right=4000000)\n",
    "\n",
    "# ax1.legend(loc=1)\n",
    "\n",
    "# ax1.set_title(filename + ' SOH vs Charge Accumulated')\n",
    "# plt.show()\n",
    "# fig.savefig(result_path + filename + ' SOH vs Charge Accumulated.png')\n"
   ]
  },
  {
   "cell_type": "code",
   "execution_count": null,
   "metadata": {},
   "outputs": [],
   "source": []
  }
 ],
 "metadata": {
  "kernelspec": {
   "display_name": "Python 3",
   "language": "python",
   "name": "python3"
  },
  "language_info": {
   "codemirror_mode": {
    "name": "ipython",
    "version": 3
   },
   "file_extension": ".py",
   "mimetype": "text/x-python",
   "name": "python",
   "nbconvert_exporter": "python",
   "pygments_lexer": "ipython3",
   "version": "3.6.5"
  }
 },
 "nbformat": 4,
 "nbformat_minor": 2
}
