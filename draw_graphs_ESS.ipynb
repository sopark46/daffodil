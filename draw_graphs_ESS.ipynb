{
 "cells": [
  {
   "cell_type": "code",
   "execution_count": 1,
   "metadata": {},
   "outputs": [],
   "source": [
    "# reads accumulate_ess_sysid_essid.csv files and draws graphs\n",
    "# so.park@lge.com\n",
    "# 2019.11.11\n",
    "import pandas as pd\n",
    "import os\n",
    "import datetime\n",
    "import shutil"
   ]
  },
  {
   "cell_type": "code",
   "execution_count": 2,
   "metadata": {},
   "outputs": [],
   "source": [
    "figsize_x = 19*2\n",
    "figsize_y = 10*2\n",
    "start_date = datetime.datetime(2016, 11, 1)\n",
    "end_date = datetime.datetime(2018, 11, 1)\n",
    "system_id = ''\n",
    "ess_id = ''"
   ]
  },
  {
   "cell_type": "code",
   "execution_count": 3,
   "metadata": {},
   "outputs": [],
   "source": [
    "src_path = '..\\\\new_result_largest_systems\\\\'   # where .csv files are\n",
    "graphs_path = '..\\\\graphs_largest_systems\\\\'    # where graphs will be written to\n",
    "src_path = '..\\\\new_result\\\\'   # where .csv files are\n",
    "graphs_path = '..\\\\graphs_test\\\\'    # where graphs will be written to\n",
    "filename = ''\n",
    "file_list = os.listdir(src_path)"
   ]
  },
  {
   "cell_type": "code",
   "execution_count": 4,
   "metadata": {},
   "outputs": [],
   "source": [
    "def read_file(system_id, ess_id):\n",
    "    global filename\n",
    "    filename = 'accumulate_' + 'ess_' + system_id + '_' + ess_id + '.csv'\n",
    "    df = pd.read_csv(src_path + filename, parse_dates=['C.target_date'], index_col = ['C.target_date'])\n",
    "    return df"
   ]
  },
  {
   "cell_type": "code",
   "execution_count": 5,
   "metadata": {},
   "outputs": [],
   "source": [
    "def plot_all(df):\n",
    "    import matplotlib.pyplot as plt\n",
    "    \n",
    "    fig = plt.figure(figsize=(figsize_x,figsize_y), tight_layout=True)\n",
    "    fig.suptitle('ess_' + system_id + '_' + ess_id, fontsize=16)\n",
    "    \n",
    "    plot_soh_temp(df, fig, 331)\n",
    "    plt.grid()\n",
    "    \n",
    "    plot_soc(df, fig, 332)\n",
    "    plt.grid()\n",
    "    \n",
    "    plot_pv(df, fig, 333)\n",
    "    plt.grid()\n",
    "    plot_charge(df, fig, 338)\n",
    "    plt.grid()\n",
    "    \n",
    "    plot_load(df, fig, 335)\n",
    "    plt.grid()\n",
    "    plot_grid_buy(df, fig, 339)\n",
    "    plt.grid()\n",
    "    plot_grid_sell(df, fig, 336)\n",
    "    plt.grid()\n",
    "    plot_pv_load_buy_sell(df, fig, 334)\n",
    "    plt.grid()\n",
    "    plot_pv_sell_ratio(df, fig, 337)\n",
    "    plt.grid()\n",
    "\n",
    "    fig.savefig(graphs_path + 'ess_' + system_id + '_' + ess_id + ' graph.png')\n",
    "    plt.close()"
   ]
  },
  {
   "cell_type": "code",
   "execution_count": 6,
   "metadata": {},
   "outputs": [],
   "source": [
    "def plot_soh(df, fig, position):\n",
    "    ax1 = fig.add_subplot(position)\n",
    "    ax2 = ax1.twinx()\n",
    "    \n",
    "    ax1.plot(df.index, df['C.batt1_v'], color='m', label='Battery Voltage')\n",
    "    ax1.set_yticks([150, 200, 250])\n",
    "    ax1.set_ylim(bottom=100, top=400)\n",
    "    ax1.legend(loc=2)\n",
    "    \n",
    "    ax2.plot(df.index, df['C.batt1_soh'], color='k', label='SOH')\n",
    "    ax2.set_ylim(bottom=79, top=103)\n",
    "    ax2.set_yticks([80, 85, 90, 95, 100])\n",
    "    ax2.set_xlim(left=start_date, right=end_date)\n",
    "    ax2.legend(loc=1)\n",
    "#     ax1.set_title('ess_' + system_id + '_' + ess_id + ' SOH')"
   ]
  },
  {
   "cell_type": "code",
   "execution_count": 7,
   "metadata": {},
   "outputs": [],
   "source": [
    "def plot_grid_buy(df, fig, position):\n",
    "\n",
    "    ax1 = fig.add_subplot(position)\n",
    "\n",
    "    ax1.plot(df.index, df['M.grid_p_buy'].div(1000), color='orange', label='Grid Buy (kW)')\n",
    "\n",
    "    ax1.set_ylim(bottom=0, top=7)\n",
    "#     ax1.set_yticks([2,4,6])\n",
    "    ax1.set_xlim(left=start_date, right=end_date)\n",
    "\n",
    "    ax1.legend(loc=2)\n",
    "\n",
    "#     ax1.set_title('ess_' + system_id + '_' + ess_id + ' Grid Buy')"
   ]
  },
  {
   "cell_type": "code",
   "execution_count": 8,
   "metadata": {},
   "outputs": [],
   "source": [
    "def plot_grid_sell(df, fig, position):\n",
    "\n",
    "    ax1 = fig.add_subplot(position)\n",
    "\n",
    "    ax1.plot(df.index, df['M.grid_p_sell'].div(1000), color='skyblue', label='Grid Sell (kW)')\n",
    "\n",
    "    ax1.set_ylim(bottom=0, top=7)\n",
    "#     ax1.set_yticks([2,4,6])\n",
    "    ax1.set_xlim(left=start_date, right=end_date)\n",
    "\n",
    "    ax1.legend(loc=2)\n",
    "\n",
    "#     ax1.set_title('ess_' + system_id + '_' + ess_id + ' Grid Sell')"
   ]
  },
  {
   "cell_type": "code",
   "execution_count": 9,
   "metadata": {},
   "outputs": [],
   "source": [
    "def plot_charge(df, fig, position):\n",
    "\n",
    "    ax1 = fig.add_subplot(position)\n",
    "\n",
    "    ax1.plot(df.index, df['accu_chg_e'].div(1000), color='r', label='CHG Accumulated (kWh)')\n",
    "    ax1.plot(df.index, df['accu_dis_e'].div(1000), color='b', label='DISCHG Accumulated (kWh)')\n",
    "    ax1.set_yticks([1000,2000,3000,4000])\n",
    "    ax1.set_ylim(bottom=0, top=4000)\n",
    "    ax1.set_xlim(left=start_date, right=end_date)\n",
    "    ax1.legend(loc=2)\n",
    "#     ax1.set_title('ess_' + system_id + '_' + ess_id + ' Charge & Discharge')\n",
    "   \n",
    "#     df['CHG_RATE'] = df['M.DIS_A'].div(df['M.CHG_A']).mul(100, fill_value=0)\n",
    "    ax2 = ax1.twinx()\n",
    "    ax2.plot(df.index, df['chg_dis_ratio'], color='k', label='Discharge/Charge %')\n",
    "    ax2.set_ylim(bottom=80, top=120)\n",
    "#     ax2.set_ylim(bottom=0, top=100)\n",
    "    ax2.legend(loc=1)"
   ]
  },
  {
   "cell_type": "code",
   "execution_count": 10,
   "metadata": {},
   "outputs": [],
   "source": [
    "def plot_pv_sell_ratio(df, fig, position):\n",
    "\n",
    "    ax1 = fig.add_subplot(position)\n",
    "    \n",
    "    ax1.plot(df.index, df['pv_sell_ratio'], color='k', label='PV-sell ratio(%)')\n",
    "    ax1.set_ylim(bottom=0, top=100)\n",
    "    ax1.set_xlim(left=start_date, right=end_date)\n",
    "    ax1.legend(loc=2)"
   ]
  },
  {
   "cell_type": "code",
   "execution_count": 11,
   "metadata": {},
   "outputs": [],
   "source": [
    "def plot_pv_load_buy_sell(df, fig, position):\n",
    "\n",
    "    ax1 = fig.add_subplot(position)\n",
    "\n",
    "    ax1.plot(df.index, df['accu_pv_e'].div(1000), color='r', label='PV (kWh)')\n",
    "    ax1.plot(df.index, df['accu_load_e'].div(1000), color='c', label='Load (kWh)')\n",
    "    ax1.plot(df.index, df['accu_buy_e'].div(1000), color='orange', label='Grid Buy (kWh)')\n",
    "    ax1.plot(df.index, df['accu_sell_e'].div(1000), color='skyblue', label='Grid Sell (kWh)')\n",
    "    ax1.set_ylim(bottom=0, top=15000)\n",
    "    ax1.set_xlim(left=start_date, right=end_date)\n",
    "    ax1.legend(loc=2)\n",
    "   "
   ]
  },
  {
   "cell_type": "code",
   "execution_count": 12,
   "metadata": {},
   "outputs": [],
   "source": [
    "def plot_soc(df, fig, position):\n",
    "\n",
    "    ax1 = fig.add_subplot(position)\n",
    "\n",
    "    ax1.plot(df.index, df['M.batt1_soc'], color='g', label='SOC')\n",
    "    ax1.set_yticks([0, 25, 50, 75, 100])\n",
    "    ax1.set_ylim(bottom=-10, top=120)\n",
    "    ax1.set_xlim(left=start_date, right=end_date)\n",
    "\n",
    "    ax1.legend(loc=2)\n",
    "\n",
    "#     ax1.set_title('ess_' + system_id + '_' + ess_id + ' Battery SOC')"
   ]
  },
  {
   "cell_type": "code",
   "execution_count": 13,
   "metadata": {},
   "outputs": [],
   "source": [
    "def plot_load(df, fig, position):\n",
    "\n",
    "    ax1 = fig.add_subplot(position)\n",
    "\n",
    "    ax1.plot(df.index, df['C.load_p'].div(1000), color='c', label='Load (kW)')\n",
    "#     ax1.set_yticks([2,4,6])\n",
    "    ax1.set_ylim(bottom=0, top=7)\n",
    "    ax1.set_xlim(left=start_date, right=end_date)\n",
    "\n",
    "    ax1.legend(loc=2)\n",
    "\n",
    "#     ax1.set_title('ess_' + system_id + '_' + ess_id + ' Load Power')"
   ]
  },
  {
   "cell_type": "code",
   "execution_count": 14,
   "metadata": {},
   "outputs": [],
   "source": [
    "def plot_pv(df, fig, position):\n",
    "    \n",
    "    ax1 = fig.add_subplot(position)\n",
    "\n",
    "    ax1.plot(df.index, df['M.string1_p'].add(df['M.string2_p']).div(1000), color='r', label='PV (kW)')\n",
    "#     ax1.set_yticks([2,4,6])\n",
    "    ax1.set_ylim(bottom=0, top=7)\n",
    "\n",
    "    ax1.set_xlim(left=start_date, right=end_date)\n",
    "\n",
    "    ax1.legend(loc=2)\n",
    "\n",
    "#     ax1.set_title('ess_' + system_id + '_' + ess_id + ' PV power')"
   ]
  },
  {
   "cell_type": "code",
   "execution_count": 15,
   "metadata": {},
   "outputs": [],
   "source": [
    "def plot_temp(df, fig, position):\n",
    "    ax1 = fig.add_subplot(position)\n",
    "\n",
    "    ax1.plot(df.index, df['M.batt1_tmp'], color='y', label='Battery Temperature')\n",
    "    ax1.set_yticks([5, 10, 15, 20, 25, 30, 35, 40,45,50])\n",
    "    ax1.set_ylim(bottom=0, top=50)\n",
    "    ax1.set_xlim(left=start_date, right=end_date)\n",
    "    ax1.legend(loc=2)\n",
    "\n",
    "#     ax1.set_title('ess_' + system_id + '_' + ess_id + ' Battery Temperature')"
   ]
  },
  {
   "cell_type": "code",
   "execution_count": 16,
   "metadata": {},
   "outputs": [],
   "source": [
    "def plot_soh_temp(df, fig, position):\n",
    "    ax1 = fig.add_subplot(position)\n",
    "\n",
    "    ax1.plot(df.index, df['M.batt1_tmp'], color='y', label='Temperature')\n",
    "    ax2 = ax1.twinx()\n",
    "    ax2.plot(df.index, df['C.batt1_soh'], color='k', label='SOH')\n",
    "\n",
    "    ax1.set_yticks([5, 10, 15, 20, 25, 30, 35, 40, 45, 50])\n",
    "    ax2.set_yticks([80, 85, 90, 95, 100])\n",
    "    ax1.set_ylim(bottom=0, top=50)\n",
    "    ax2.set_ylim(bottom=78, top=104)\n",
    "    ax1.set_xlim(left=start_date, right=end_date)\n",
    "\n",
    "    ax1.legend(loc=2)\n",
    "    ax2.legend(loc=1)\n",
    "\n",
    "#     ax1.set_title('ess_' + system_id + '_' + ess_id + ' SOH & Battery Temperature')"
   ]
  },
  {
   "cell_type": "code",
   "execution_count": 17,
   "metadata": {
    "scrolled": false
   },
   "outputs": [],
   "source": [
    "ess_list = [['16','36'], ['28','47'], ['57','1135'], ['142','132'], ['355','336'], ['466','359'], ['682','692'], \n",
    "            ['958','867'], ['972', '887'], ['1141','1072'], ['1201','1116'], ['1244','1059'], ['1285','1211'], ['1739', '1580']]\n",
    "\n",
    "for i in range(len(ess_list)):\n",
    "    global system_id, ess_id\n",
    "    system_id, ess_id = ess_list[i]\n",
    "    df = read_file(system_id, ess_id)\n",
    "    plot_all(df)\n",
    "    del df"
   ]
  },
  {
   "cell_type": "code",
   "execution_count": 18,
   "metadata": {
    "scrolled": false
   },
   "outputs": [],
   "source": [
    "# 폴더 내 모든 파일 그래프 그리기\n",
    "# for i in range(len(file_list)):\n",
    "#     global system_id, ess_id\n",
    "    \n",
    "#     system_id = file_list[i].split('_')[2]\n",
    "#     ess_id = file_list[i].split('_')[3].split('.')[0]\n",
    "\n",
    "#     df = read_file(system_id, ess_id)\n",
    "#     plot_all(df)\n",
    "#     del df"
   ]
  },
  {
   "cell_type": "code",
   "execution_count": null,
   "metadata": {},
   "outputs": [],
   "source": []
  }
 ],
 "metadata": {
  "kernelspec": {
   "display_name": "Python 3",
   "language": "python",
   "name": "python3"
  },
  "language_info": {
   "codemirror_mode": {
    "name": "ipython",
    "version": 3
   },
   "file_extension": ".py",
   "mimetype": "text/x-python",
   "name": "python",
   "nbconvert_exporter": "python",
   "pygments_lexer": "ipython3",
   "version": "3.6.5"
  }
 },
 "nbformat": 4,
 "nbformat_minor": 2
}
