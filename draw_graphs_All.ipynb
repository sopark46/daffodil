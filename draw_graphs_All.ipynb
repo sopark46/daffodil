{
 "cells": [
  {
   "cell_type": "code",
   "execution_count": 1,
   "metadata": {},
   "outputs": [],
   "source": [
    "import pandas as pd\n",
    "import os\n",
    "import datetime\n",
    "import shutil"
   ]
  },
  {
   "cell_type": "code",
   "execution_count": 2,
   "metadata": {},
   "outputs": [],
   "source": [
    "figsize_x = 36\n",
    "figsize_y = 18\n",
    "start_date = datetime.datetime(2016, 9, 1)\n",
    "end_date = datetime.datetime(2018, 12, 31)\n",
    "system_id = ''\n",
    "ess_id = ''"
   ]
  },
  {
   "cell_type": "code",
   "execution_count": 3,
   "metadata": {},
   "outputs": [],
   "source": [
    "result_path = '..\\\\new_result\\\\'\n",
    "graphs_path = '..\\\\graphs_all_fields\\\\'\n",
    "csv_path = '..\\\\new_result\\\\'\n",
    "done_path = '..\\\\done\\\\'\n",
    "filename = ''\n",
    "file_list = os.listdir(csv_path)\n",
    "file_list.sort()"
   ]
  },
  {
   "cell_type": "code",
   "execution_count": 4,
   "metadata": {},
   "outputs": [],
   "source": [
    "def read_file(system_id, ess_id):\n",
    "    global filename\n",
    "    filename = 'accumulate_' + 'ess_' + system_id + '_' + ess_id + '.csv'\n",
    "    df = pd.read_csv(csv_path + filename, parse_dates=['C.target_date'], index_col = ['C.target_date'])\n",
    "    return df"
   ]
  },
  {
   "cell_type": "code",
   "execution_count": 5,
   "metadata": {},
   "outputs": [],
   "source": [
    "def plot_all(df):\n",
    "    import matplotlib.pyplot as plt\n",
    "    \n",
    "    fig = plt.figure(figsize=(figsize_x,figsize_y))#, tight_layout=True)\n",
    "    fig.suptitle('ess_' + system_id + '_' + ess_id, fontsize=16)\n",
    "    \n",
    "    plot_soh(df, fig, 331)\n",
    "    plt.grid()\n",
    "    \n",
    "    plot_soc(df, fig, 332)\n",
    "    plt.grid()\n",
    "    \n",
    "    plot_temp(df, fig, 333)\n",
    "    plt.grid()\n",
    "    \n",
    "    plot_pv(df, fig, 334)\n",
    "    plt.grid()\n",
    "    plot_chg_acc(df, fig, 335)\n",
    "    plt.grid()\n",
    "    \n",
    "    plot_load(df, fig, 336)\n",
    "    plt.grid()\n",
    "    plot_string1_e(df, fig, 337)\n",
    "    plt.grid()\n",
    "    plot_direct_consumption(df, fig, 338)\n",
    "    plt.grid()\n",
    "    plot_consumption_e(df, fig, 339)\n",
    "    plt.grid()\n",
    "\n",
    "#     plot_soh_temp(df, fig)\n",
    "#     plot_pv_power(df, fig)\n",
    "#     plot_temp_charge(df, fig)\n",
    "#     plot_soc_charge(df, fig)\n",
    "\n",
    "    fig.savefig(graphs_path + 'ess_' + system_id + '_' + ess_id + ' graph.png')\n",
    "    plt.close()"
   ]
  },
  {
   "cell_type": "code",
   "execution_count": 6,
   "metadata": {},
   "outputs": [],
   "source": [
    "def plot_soh(df, fig, position):\n",
    "    ax1 = fig.add_subplot(position)\n",
    "\n",
    "    ax1.plot(df.index, df['C.batt1_soh'], color='k', label='SOH')\n",
    "\n",
    "#     ax1.set_yticks([80, 84, 88, 92, 96, 100])\n",
    "\n",
    "    ax1.set_ylim(bottom=79, top=101)\n",
    "    ax1.set_xlim(left=start_date, right=end_date)\n",
    "\n",
    "    ax1.legend(loc=2)\n",
    "\n",
    "    ax1.set_title('ess_' + system_id + '_' + ess_id + ' SOH')"
   ]
  },
  {
   "cell_type": "code",
   "execution_count": 7,
   "metadata": {},
   "outputs": [],
   "source": [
    "def plot_grid_buy(df, fig, position):\n",
    "\n",
    "    ax1 = fig.add_subplot(position)\n",
    "\n",
    "    ax1.plot(df.index, df['M.grid_e_buy '], color='r', label='Grid Buy')\n",
    "\n",
    "    ax1.set_ylim(bottom=0, top=3000)\n",
    "    ax1.set_yticks([1000,2000,3000])\n",
    "    ax1.set_xlim(left=start_date, right=end_date)\n",
    "\n",
    "    ax1.legend(loc=2)\n",
    "\n",
    "    ax1.set_title('ess_' + system_id + '_' + ess_id + ' Grid Buy')"
   ]
  },
  {
   "cell_type": "code",
   "execution_count": 8,
   "metadata": {},
   "outputs": [],
   "source": [
    "def plot_grid_sell(df, fig, position):\n",
    "\n",
    "    ax1 = fig.add_subplot(position)\n",
    "\n",
    "    ax1.plot(df.index, df['M.grid_e_sell'], color='b', label='Grid Sell')\n",
    "\n",
    "    ax1.set_ylim(bottom=0, top=3000)\n",
    "    ax1.set_yticks([1000,2000,3000])\n",
    "    ax1.set_xlim(left=start_date, right=end_date)\n",
    "\n",
    "    ax1.legend(loc=2)\n",
    "\n",
    "    ax1.set_title('ess_' + system_id + '_' + ess_id + ' Grid Sell')"
   ]
  },
  {
   "cell_type": "code",
   "execution_count": 9,
   "metadata": {},
   "outputs": [],
   "source": [
    "def plot_grid(df, fig, position):\n",
    "\n",
    "    ax1 = fig.add_subplot(position)\n",
    "\n",
    "    ax1.plot(df.index, df['M.grid_e_buy '], color='r', label='Grid Buy')\n",
    "    ax1.plot(df.index, df['M.grid_e_sell'], color='b', label='Grid Sell')\n",
    "\n",
    "    ax1.set_ylim(bottom=0, top=2000)\n",
    "    ax1.set_xlim(left=start_date, right=end_date)\n",
    "\n",
    "    ax1.legend(loc=2)\n",
    "\n",
    "    ax1.set_title('ess_' + system_id + '_' + ess_id + ' Grid Buy & Sell')"
   ]
  },
  {
   "cell_type": "code",
   "execution_count": 10,
   "metadata": {},
   "outputs": [],
   "source": [
    "def plot_consumption_e(df, fig, position):\n",
    "\n",
    "    ax1 = fig.add_subplot(position)\n",
    "\n",
    "    ax1.plot(df.index, df['M.consumption_e'], color='r', label='M.consumption_e')\n",
    "#    ax1.set_yticks([1000000,2000000,3000000,4000000])\n",
    "#    ax1.set_ylim(bottom=0, top=4000000)\n",
    "    ax1.set_xlim(left=start_date, right=end_date)\n",
    "    ax1.legend(loc=2)\n",
    "    ax1.set_title('ess_' + system_id + '_' + ess_id + ' Consumption E')"
   ]
  },
  {
   "cell_type": "code",
   "execution_count": 11,
   "metadata": {},
   "outputs": [],
   "source": [
    "def plot_direct_consumption(df, fig, position):\n",
    "\n",
    "    ax1 = fig.add_subplot(position)\n",
    "\n",
    "    ax1.plot(df.index, df['M.direct_consump_e'], color='r', label='Direct Consumption E')\n",
    "#    ax1.set_yticks([1000000,2000000,3000000,4000000])\n",
    "#    ax1.set_ylim(bottom=0, top=4000000)\n",
    "    ax1.set_xlim(left=start_date, right=end_date)\n",
    "    ax1.legend(loc=2)\n",
    "    ax1.set_title('ess_' + system_id + '_' + ess_id + ' Direct Consumption E')"
   ]
  },
  {
   "cell_type": "code",
   "execution_count": 12,
   "metadata": {},
   "outputs": [],
   "source": [
    "def plot_string1_e(df, fig, position):\n",
    "\n",
    "    ax1 = fig.add_subplot(position)\n",
    "\n",
    "    ax1.plot(df.index, df['M.string1_e'], color='m', label='String1 E')\n",
    "#    ax1.set_yticks([1000000,2000000,3000000,4000000])\n",
    "#    ax1.set_ylim(bottom=0, top=4000000)\n",
    "    ax1.set_xlim(left=start_date, right=end_date)\n",
    "    ax1.legend(loc=2)\n",
    "    ax1.set_title('ess_' + system_id + '_' + ess_id + ' PV String1 E')"
   ]
  },
  {
   "cell_type": "code",
   "execution_count": 13,
   "metadata": {},
   "outputs": [],
   "source": [
    "def plot_chg(df, fig, position):\n",
    "\n",
    "    ax1 = fig.add_subplot(position)\n",
    "\n",
    "    ax1.plot(df.index, df['C.batt_chg'], color='r', label='Batt Charge')\n",
    "#    ax1.set_yticks([1000000,2000000,3000000,4000000])\n",
    "#    ax1.set_ylim(bottom=0, top=4000000)\n",
    "    ax1.set_xlim(left=start_date, right=end_date)\n",
    "    ax1.legend(loc=2)\n",
    "    ax1.set_title('ess_' + system_id + '_' + ess_id + ' Batt Charge')"
   ]
  },
  {
   "cell_type": "code",
   "execution_count": 14,
   "metadata": {},
   "outputs": [],
   "source": [
    "def plot_dischg(df, fig, position):\n",
    "\n",
    "    ax1 = fig.add_subplot(position)\n",
    "    ax1.plot(df.index, df['C.batt_dis'], color='b', label='Batt Discharge')\n",
    "#    ax1.set_yticks([1000000,2000000,3000000,4000000])\n",
    "#    ax1.set_ylim(bottom=0, top=4000000)\n",
    "    ax1.set_xlim(left=start_date, right=end_date)\n",
    "    ax1.legend(loc=2)\n",
    "    ax1.set_title('ess_' + system_id + '_' + ess_id + ' Batt Discharge')"
   ]
  },
  {
   "cell_type": "code",
   "execution_count": 15,
   "metadata": {},
   "outputs": [],
   "source": [
    "def plot_chg_acc(df, fig, position):\n",
    "\n",
    "    ax1 = fig.add_subplot(position)\n",
    "\n",
    "    ax1.plot(df.index, df['M.CHG_A'], color='r', label='CHG Accumulated')\n",
    "    ax1.plot(df.index, df['M.DIS_A'], color='b', label='DISCHG Accumulated')\n",
    "    ax1.set_yticks([1000000,2000000,3000000,4000000])\n",
    "    ax1.set_ylim(bottom=0, top=4000000)\n",
    "    ax1.set_xlim(left=start_date, right=end_date)\n",
    "    ax1.legend(loc=2)\n",
    "    ax1.set_title('ess_' + system_id + '_' + ess_id + ' Charge & Discharge')\n",
    "   \n",
    "    df['CHG_RATE'] = df['M.CHG_A'].div(df['M.CHG_A'].add(df['M.DIS_A'])).mul(100, fill_value=0)\n",
    "    ax2 = ax1.twinx()\n",
    "    ax2.plot(df.index, df['CHG_RATE'], color='k', label='C/(C+D) %')\n",
    "    ax2.set_ylim(bottom=40, top=60)\n",
    "#     ax2.set_ylim(bottom=0, top=100)\n",
    "    ax2.legend(loc=1)"
   ]
  },
  {
   "cell_type": "code",
   "execution_count": 16,
   "metadata": {},
   "outputs": [],
   "source": [
    "def plot_soc(df, fig, position):\n",
    "\n",
    "    ax1 = fig.add_subplot(position)\n",
    "\n",
    "    ax1.plot(df.index, df['M.batt1_soc'], color='g', label='SOC')\n",
    "    ax1.set_yticks([0, 25, 50, 75, 100])\n",
    "    ax1.set_ylim(bottom=-10, top=120)\n",
    "    ax1.set_xlim(left=start_date, right=end_date)\n",
    "\n",
    "    ax1.legend(loc=2)\n",
    "\n",
    "    ax1.set_title('ess_' + system_id + '_' + ess_id + ' Battery SOC')"
   ]
  },
  {
   "cell_type": "code",
   "execution_count": 17,
   "metadata": {},
   "outputs": [],
   "source": [
    "def plot_load(df, fig, position):\n",
    "\n",
    "    ax1 = fig.add_subplot(position)\n",
    "\n",
    "    ax1.plot(df.index, df['C.load_p'], color='c', label='Load Power')\n",
    "    ax1.set_yticks([4000,8000,12000])\n",
    "    ax1.set_ylim(bottom=0, top=15000)\n",
    "    ax1.set_xlim(left=start_date, right=end_date)\n",
    "\n",
    "    ax1.legend(loc=2)\n",
    "\n",
    "    ax1.set_title('ess_' + system_id + '_' + ess_id + ' Load Power')"
   ]
  },
  {
   "cell_type": "code",
   "execution_count": 18,
   "metadata": {},
   "outputs": [],
   "source": [
    "def plot_pv(df, fig, position):\n",
    "    \n",
    "    ax1 = fig.add_subplot(position)\n",
    "\n",
    "    ax1.plot(df.index, df['C.pv_p'], color='r', label='PV power')\n",
    "    ax1.set_yticks([2000,4000,6000,8000])\n",
    "    ax1.set_ylim(bottom=0, top=8000)\n",
    "\n",
    "    ax1.set_xlim(left=start_date, right=end_date)\n",
    "\n",
    "    ax1.legend(loc=2)\n",
    "\n",
    "    ax1.set_title('ess_' + system_id + '_' + ess_id + ' PV power')"
   ]
  },
  {
   "cell_type": "code",
   "execution_count": 19,
   "metadata": {},
   "outputs": [],
   "source": [
    "def plot_temp(df, fig, position):\n",
    "    ax1 = fig.add_subplot(position)\n",
    "\n",
    "    ax1.plot(df.index, df['M.batt1_tmp'], color='y', label='Battery Temperature')\n",
    "    ax1.set_yticks([5, 10, 15, 20, 25, 30, 35, 40])\n",
    "    ax1.set_ylim(bottom=10, top=40)\n",
    "    ax1.set_xlim(left=start_date, right=end_date)\n",
    "    ax1.legend(loc=2)\n",
    "    \n",
    "    ax2 = ax1.twinx()\n",
    "    ax2.plot(df.index, df['C.batt1_v'], color='k', label='Battery Voltage')\n",
    "    ax2.set_yticks([150, 200, 250])\n",
    "    ax2.set_ylim(bottom=0, top=600)\n",
    "    ax2.legend(loc=1)\n",
    "\n",
    "    ax1.set_title('ess_' + system_id + '_' + ess_id + ' Battery Temperature & Voltage')"
   ]
  },
  {
   "cell_type": "code",
   "execution_count": 20,
   "metadata": {},
   "outputs": [],
   "source": [
    "def plot_soh_temp(df, fig):\n",
    "    ax1 = fig.add_subplot(221)\n",
    "\n",
    "    ax1.plot(df.index, df['M.batt1_tmp'], color='y', label='Temperature')\n",
    "    ax2 = ax1.twinx()\n",
    "    ax2.plot(df.index, df['C.batt1_soh'], color='k', label='SOH')\n",
    "\n",
    "    ax1.set_yticks([5, 10, 15, 20, 25, 30, 35, 40])\n",
    "    ax2.set_yticks([80, 82, 84, 86, 88, 90, 92, 94, 96, 98, 100])\n",
    "    ax1.set_ylim(bottom=10, top=40)\n",
    "    ax2.set_ylim(bottom=80, top=103)\n",
    "    ax1.set_xlim(left=start_date, right=end_date)\n",
    "\n",
    "    ax1.legend(loc=2)\n",
    "    ax2.legend(loc=1)\n",
    "\n",
    "    ax1.set_title('ess_' + system_id + '_' + ess_id + ' SOH & Battery Temperature')"
   ]
  },
  {
   "cell_type": "code",
   "execution_count": 21,
   "metadata": {},
   "outputs": [],
   "source": [
    "def plot_pv_power(df, fig):\n",
    "    \n",
    "    ax1 = fig.add_subplot(222)\n",
    "\n",
    "    ax1.plot(df.index, df['C.pv_p'], color='r', label='PV power')\n",
    "    ax2 = ax1.twinx()\n",
    "    ax2.plot(df.index, df['C.batt1_v'], color='m', label='Battery V')\n",
    "\n",
    "#     ax1.set_yticks([1000000,2000000,3000000,4000000])\n",
    "\n",
    "    ax1.set_ylim(bottom=0, top=8000)\n",
    "    ax2.set_ylim(bottom=0, top=800)\n",
    "    ax2.set_yticks([160, 180, 200, 220, 240, 260])\n",
    "    ax1.set_xlim(left=start_date, right=end_date)\n",
    "\n",
    "    ax1.legend(loc=2)\n",
    "    ax2.legend(loc=1)\n",
    "\n",
    "    ax1.set_title('ess_' + system_id + '_' + ess_id + ' PV power & Battery V')"
   ]
  },
  {
   "cell_type": "code",
   "execution_count": 22,
   "metadata": {},
   "outputs": [],
   "source": [
    "def plot_temp_charge(df, fig):\n",
    "\n",
    "    ax1 = fig.add_subplot(223)\n",
    "\n",
    "    ax1.plot(df.index, df['M.batt1_tmp'], color='y', label='Temperature')\n",
    "    ax2 = ax1.twinx()\n",
    "    ax2.plot(df.index, df['M.CHG_A'], color='r', label='CHG Accumulated')\n",
    "    ax2.plot(df.index, df['M.DIS_A'], color='b', label='DISCHG Accumulated')\n",
    "\n",
    "    ax2.set_yticks([1000000,2000000,3000000,4000000])\n",
    "    ax1.set_yticks([5, 10, 15, 20, 25, 30, 35, 40])\n",
    "    ax2.set_ylim(bottom=0, top=4000000)\n",
    "    ax1.set_ylim(bottom=10, top=40)\n",
    "    ax1.set_xlim(left=start_date, right=end_date)\n",
    "\n",
    "    ax1.legend(loc=2)\n",
    "    ax2.legend(loc=1)\n",
    "\n",
    "    ax1.set_title('ess_' + system_id + '_' + ess_id + ' Temperature & Charge')"
   ]
  },
  {
   "cell_type": "code",
   "execution_count": 23,
   "metadata": {},
   "outputs": [],
   "source": [
    "def plot_soc_charge(df, fig):\n",
    "\n",
    "    ax1 = fig.add_subplot(224)\n",
    "\n",
    "    ax1.plot(df.index, df['M.batt1_soc'], color='g', label='SOC')\n",
    "    ax2 = ax1.twinx()\n",
    "    ax2.plot(df.index, df['C.load_p'], color='c', label='Load Power')\n",
    "\n",
    "#     ax2.set_yticks([1000000,2000000,3000000,4000000])\n",
    "    ax1.set_yticks([0, 25, 50, 75, 100])\n",
    "    ax2.set_ylim(bottom=0, top=20000)\n",
    "    ax1.set_ylim(bottom=-100, top=150)\n",
    "    ax1.set_xlim(left=start_date, right=end_date)\n",
    "\n",
    "    ax1.legend(loc=2)\n",
    "    ax2.legend(loc=1)\n",
    "\n",
    "    ax1.set_title('ess_' + system_id + '_' + ess_id + ' SOC & Load Power')\n"
   ]
  },
  {
   "cell_type": "code",
   "execution_count": 24,
   "metadata": {},
   "outputs": [],
   "source": [
    "def plot_soc_soh(df):\n",
    "    import matplotlib.pyplot as plt\n",
    "\n",
    "    fig = plt.figure(figsize=(figsize_x,figsize_y))\n",
    "\n",
    "    ax1 = fig.add_subplot(111)\n",
    "\n",
    "    ax1.plot(df.index, df['M.batt1_soc'], color='g', label='SOC')\n",
    "    ax2 = ax1.twinx()\n",
    "    ax2.plot(df.index, df['C.batt1_soh'], color='k', label='SOH')\n",
    "\n",
    "    ax1.set_yticks([0, 25, 50, 75, 100])\n",
    "    ax2.set_yticks([80, 82, 84, 86, 88, 90, 92, 94, 96, 98, 100])\n",
    "    ax1.set_ylim(bottom=-50, top=150)\n",
    "    ax2.set_ylim(bottom=80, top=103)\n",
    "    ax1.set_xlim(left=start_date, right=end_date)\n",
    "\n",
    "    ax1.legend(loc=2)\n",
    "    ax2.legend(loc=1)\n",
    "\n",
    "    ax1.set_title('ess_' + system_id + '_' + ess_id + ' SOC & SOH')\n",
    "    #plt.show()\n",
    "    fig.savefig(result_path + 'ess_' + system_id + '_' + ess_id + ' SOC & SOH.png')\n",
    "    plt.close()"
   ]
  },
  {
   "cell_type": "code",
   "execution_count": 25,
   "metadata": {
    "scrolled": false
   },
   "outputs": [],
   "source": [
    "for i in range(len(file_list)):\n",
    "# for i in range(0,3):\n",
    "    global system_id, ess_id\n",
    "    \n",
    "    system_id = file_list[i].split('_')[2]\n",
    "    ess_id = file_list[i].split('_')[3].split('.')[0]\n",
    "    df = read_file(system_id, ess_id)\n",
    "#     accumulate_charge(df)\n",
    "    plot_all(df)\n",
    "    del df\n",
    "# system_id = '16'\n",
    "# ess_id = '36'\n",
    "# df = read_file(system_id, ess_id)\n",
    "# accumulate_charge(df)\n",
    "# plot_all(df)\n",
    "# del df\n",
    "#     shutil.move(csv_path + filename, done_path + filename)"
   ]
  },
  {
   "cell_type": "code",
   "execution_count": 26,
   "metadata": {
    "scrolled": true
   },
   "outputs": [],
   "source": [
    "#df.head()"
   ]
  },
  {
   "cell_type": "code",
   "execution_count": 27,
   "metadata": {},
   "outputs": [],
   "source": [
    "# import matplotlib.pyplot as plt\n",
    "\n",
    "# fig = plt.figure(figsize=(figsize_x,figsize_y))\n",
    "\n",
    "# ax1 = fig.add_subplot(111)\n",
    "\n",
    "# ax1.plot(df.index, df['M.CHG_A'], color='r', label='CHG Accumulated')\n",
    "# ax1.plot(df.index, df['M.DIS_A'], color='b', label='DISCHG Accumulated')\n",
    "# ax2 = ax1.twinx()\n",
    "# ax2.plot(df.index, df['C.batt1_soh'], color='g', label='SOH')\n",
    "\n",
    "# ax1.set_yticks([1000000,2000000,3000000,4000000])\n",
    "# ax2.set_yticks([80, 82, 84, 86, 88, 90, 92, 94, 96, 98, 100])\n",
    "# ax1.set_ylim(bottom=0, top=4000000)\n",
    "# ax2.set_ylim(bottom=80, top=103)\n",
    "# ax1.set_xlim(left=0, right=70000)\n",
    "\n",
    "# ax1.legend(loc=1)\n",
    "# ax2.legend(loc=2)\n",
    "\n",
    "# ax1.set_title(filename + ' SOH & Charge Accumulated')\n",
    "# plt.show()\n",
    "# fig.savefig(result_path + filename + ' SOH & Charge.png')\n",
    "# #df[['M.CHG_A','C.batt1_soh']].plot(secondary_y='C.batt1_soh')\n",
    "\n",
    "# #plt.show()"
   ]
  },
  {
   "cell_type": "code",
   "execution_count": 28,
   "metadata": {},
   "outputs": [],
   "source": [
    "\n",
    "# import matplotlib.pyplot as plt\n",
    "\n",
    "# fig = plt.figure(figsize=(figsize_x,figsize_y))\n",
    "\n",
    "# ax1 = fig.add_subplot(111)\n",
    "\n",
    "# ax1.scatter(df['M.CHG_A'], df['C.batt1_soh'], color='r', label='CHG Accumulated')\n",
    "\n",
    "# #ax1.set_yticks([1000000,2000000,3000000,4000000])\n",
    "# #ax2.set_yticks([80, 82, 84, 86, 88, 90, 92, 94, 96, 98, 100])\n",
    "# ax1.set_ylim(bottom=80, top=100)\n",
    "# #ax2.set_ylim(bottom=80, top=103)\n",
    "# ax1.set_xlim(left=0, right=4000000)\n",
    "\n",
    "# ax1.legend(loc=1)\n",
    "\n",
    "# ax1.set_title(filename + ' SOH vs Charge Accumulated')\n",
    "# plt.show()\n",
    "# fig.savefig(result_path + filename + ' SOH vs Charge Accumulated.png')\n"
   ]
  },
  {
   "cell_type": "code",
   "execution_count": null,
   "metadata": {},
   "outputs": [],
   "source": []
  }
 ],
 "metadata": {
  "kernelspec": {
   "display_name": "Python 3",
   "language": "python",
   "name": "python3"
  },
  "language_info": {
   "codemirror_mode": {
    "name": "ipython",
    "version": 3
   },
   "file_extension": ".py",
   "mimetype": "text/x-python",
   "name": "python",
   "nbconvert_exporter": "python",
   "pygments_lexer": "ipython3",
   "version": "3.6.5"
  }
 },
 "nbformat": 4,
 "nbformat_minor": 2
}
