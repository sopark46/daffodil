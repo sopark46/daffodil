{
 "cells": [
  {
   "cell_type": "code",
   "execution_count": 1,
   "metadata": {},
   "outputs": [],
   "source": [
    "# csv_path 에 있는 accumulate_ess_'system_id'_'ess_id'.csv 파일을 모두 읽어서\n",
    "# result_path에 summary....csv로 저장함\n",
    "# 저장할 때 포함할 필드를 선택해야 함."
   ]
  },
  {
   "cell_type": "code",
   "execution_count": 2,
   "metadata": {},
   "outputs": [],
   "source": [
    "import pandas as pd\n",
    "import os\n",
    "import datetime\n",
    "import shutil\n",
    "from pandas import Series, DataFrame"
   ]
  },
  {
   "cell_type": "code",
   "execution_count": 3,
   "metadata": {},
   "outputs": [],
   "source": [
    "system_id = ''\n",
    "ess_id = ''"
   ]
  },
  {
   "cell_type": "code",
   "execution_count": 4,
   "metadata": {},
   "outputs": [],
   "source": [
    "result_path = '..\\\\'\n",
    "csv_path = '..\\\\new_result\\\\'\n",
    "#csv_path = good_csv_path = '..\\\\good_data\\\\'\n",
    "filename = ''\n",
    "file_list = os.listdir(csv_path)\n",
    "file_list.sort()"
   ]
  },
  {
   "cell_type": "code",
   "execution_count": 5,
   "metadata": {},
   "outputs": [],
   "source": [
    "def read_file(system_id, ess_id):\n",
    "    global filename\n",
    "    filename = 'accumulate_' + 'ess_' + system_id + '_' + ess_id + '.csv'\n",
    "    df = pd.read_csv(csv_path + filename, parse_dates=['C.target_date'], index_col = ['C.target_date'])\n",
    "    return df"
   ]
  },
  {
   "cell_type": "code",
   "execution_count": 6,
   "metadata": {
    "scrolled": false
   },
   "outputs": [],
   "source": [
    "df_summary = DataFrame()\n",
    "for i in range(len(file_list)):\n",
    "# for i in range(0,10):\n",
    "    global system_id, ess_id\n",
    "    \n",
    "    system_id = file_list[i].split('_')[2]\n",
    "    ess_id = file_list[i].split('_')[3].split('.')[0]\n",
    "    df = read_file(system_id, ess_id)\n",
    "    df = df.mask(df['C.batt1_soh']==0).dropna() # soh가 0인 row는 제거\n",
    "    \n",
    "    df_summary = df_summary.append(df.tail(1), ignore_index=True)\n",
    "    del df"
   ]
  },
  {
   "cell_type": "code",
   "execution_count": 7,
   "metadata": {},
   "outputs": [],
   "source": [
    "df_summary.to_csv(result_path + 'ESS_summary_all_fields.csv')"
   ]
  }
 ],
 "metadata": {
  "kernelspec": {
   "display_name": "Python 3",
   "language": "python",
   "name": "python3"
  },
  "language_info": {
   "codemirror_mode": {
    "name": "ipython",
    "version": 3
   },
   "file_extension": ".py",
   "mimetype": "text/x-python",
   "name": "python",
   "nbconvert_exporter": "python",
   "pygments_lexer": "ipython3",
   "version": "3.6.5"
  }
 },
 "nbformat": 4,
 "nbformat_minor": 2
}
