{
 "cells": [
  {
   "cell_type": "code",
   "execution_count": 1,
   "metadata": {},
   "outputs": [],
   "source": [
    "import pandas as pd\n",
    "import os\n",
    "import datetime\n",
    "import shutil"
   ]
  },
  {
   "cell_type": "code",
   "execution_count": 3,
   "metadata": {},
   "outputs": [],
   "source": [
    "file_list = os.listdir(\"..\\\\all\\\\\")\n",
    "file_list.sort()\n",
    "dst_path = '..\\\\new_result\\\\'\n",
    "src_path = '..\\\\all\\\\'\n",
    "filename = ''"
   ]
  },
  {
   "cell_type": "code",
   "execution_count": 4,
   "metadata": {},
   "outputs": [],
   "source": [
    "def read_file(system_id, ess_id):\n",
    "    global filename\n",
    "    filename = 'ess_' + system_id + '_' + ess_id + '.csv'\n",
    "    df = pd.read_csv(src_path + filename, parse_dates=['C.target_date'], index_col = ['C.target_date'])\n",
    "    return df"
   ]
  },
  {
   "cell_type": "code",
   "execution_count": 5,
   "metadata": {},
   "outputs": [],
   "source": [
    "def accumulate_charge(df):\n",
    "    df['accu_chg_e'] = df['M.batt1_chg'].cumsum()\n",
    "    df['accu_dis_e'] = df['M.batt1_dis'].cumsum()\n",
    "    df['chg_dis_ratio'] = df['accu_dis_e'].div(df['accu_chg_e']).mul(100)\n",
    "    \n",
    "    df['pv_e'] = df['M.string1_e'].add(df['M.string2_e'])\n",
    "    df['accu_pv_e'] = df['pv_e'].cumsum()\n",
    "    \n",
    "    df['accu_sell_e'] = df['M.grid_e_sell'].cumsum()\n",
    "    df['accu_buy_e'] = df['M.grid_e_buy '].cumsum()\n",
    "    df['pv_sell_ratio'] = df['accu_sell_e'].div(df['accu_pv_e']).mul(100)\n",
    "\n",
    "    df['accu_load_e'] = df['M.consumption_e'].cumsum()\n",
    "    \n",
    "    df.to_csv(dst_path + 'accumulate_' + filename)"
   ]
  },
  {
   "cell_type": "code",
   "execution_count": 6,
   "metadata": {
    "scrolled": false
   },
   "outputs": [],
   "source": [
    "for i in range(len(file_list)):\n",
    "    system_id = file_list[i].split('_')[1]\n",
    "    ess_id = file_list[i].split('_')[2].split('.')[0]\n",
    "    df = read_file(system_id, ess_id)\n",
    "    accumulate_charge(df)\n",
    "    del df"
   ]
  }
 ],
 "metadata": {
  "kernelspec": {
   "display_name": "Python 3",
   "language": "python",
   "name": "python3"
  },
  "language_info": {
   "codemirror_mode": {
    "name": "ipython",
    "version": 3
   },
   "file_extension": ".py",
   "mimetype": "text/x-python",
   "name": "python",
   "nbconvert_exporter": "python",
   "pygments_lexer": "ipython3",
   "version": "3.6.5"
  }
 },
 "nbformat": 4,
 "nbformat_minor": 2
}
